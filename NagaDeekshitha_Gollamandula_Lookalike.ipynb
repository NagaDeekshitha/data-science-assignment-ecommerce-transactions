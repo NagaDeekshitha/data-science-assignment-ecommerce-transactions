{
 "cells": [
  {
   "cell_type": "code",
   "execution_count": 1,
   "id": "64d396ef-ba01-4928-ae5d-57844619f756",
   "metadata": {},
   "outputs": [],
   "source": [
    "import pandas as pd\n",
    "import numpy as np\n",
    "from sklearn.metrics.pairwise import cosine_similarity\n"
   ]
  },
  {
   "cell_type": "code",
   "execution_count": 2,
   "id": "5588b4de-dacd-4062-8786-7314a0721cdf",
   "metadata": {},
   "outputs": [],
   "source": [
    "# Load datasets\n",
    "customers = pd.read_csv(r'downloads\\Customers.csv')\n",
    "products = pd.read_csv(r'downloads\\Products.csv')\n",
    "transactions = pd.read_csv(r'downloads\\Transactions.csv')\n"
   ]
  },
  {
   "cell_type": "code",
   "execution_count": 3,
   "id": "1e8f2914-21e8-4804-8588-058c25145bd0",
   "metadata": {},
   "outputs": [],
   "source": [
    "# Merge customer and transaction data on 'CustomerID'\n",
    "customer_transactions = pd.merge(transactions, customers, on='CustomerID')\n"
   ]
  },
  {
   "cell_type": "code",
   "execution_count": 5,
   "id": "8988e637-04f1-4673-8c17-c7e325ef8d78",
   "metadata": {},
   "outputs": [],
   "source": [
    "# Merge the transaction data with product information on 'ProductID'\n",
    "full_data = pd.merge(customer_transactions, products, on='ProductID')\n"
   ]
  },
  {
   "cell_type": "code",
   "execution_count": 6,
   "id": "f4dd15cc-c3ec-4650-821d-e359ace281c1",
   "metadata": {},
   "outputs": [],
   "source": [
    "# One-hot encoding the 'Region' column to create numerical features\n",
    "full_data = pd.get_dummies(full_data, columns=['Region'], drop_first=True)\n"
   ]
  },
  {
   "cell_type": "code",
   "execution_count": 7,
   "id": "bbe67c10-6ecc-41b4-bf4b-4b4cd4e0f0a6",
   "metadata": {},
   "outputs": [],
   "source": [
    "# Grouping by CustomerID to create aggregated features\n",
    "customer_features = full_data.groupby('CustomerID').agg(\n",
    "    total_transactions=('TransactionID', 'count'),\n",
    "    total_spent=('TotalValue', 'sum'),\n",
    "    most_purchased_category=('Category', lambda x: x.mode()[0])  # Most frequent product category\n",
    ").reset_index()\n"
   ]
  },
  {
   "cell_type": "code",
   "execution_count": 8,
   "id": "e9c3ba89-d6be-4d3b-b59e-8e901ca9a419",
   "metadata": {},
   "outputs": [],
   "source": [
    "# Frequency of product categories purchased by each customer\n",
    "category_freq = full_data.groupby(['CustomerID', 'Category']).size().unstack(fill_value=0)\n",
    "category_freq.reset_index(inplace=True)\n"
   ]
  },
  {
   "cell_type": "code",
   "execution_count": 9,
   "id": "83ba8c38-a0dd-4371-b970-37e8b4d02ca4",
   "metadata": {},
   "outputs": [],
   "source": [
    "# Calculate average price per transaction for each customer\n",
    "customer_features['avg_spent_per_transaction'] = customer_features['total_spent'] / customer_features['total_transactions']\n"
   ]
  },
  {
   "cell_type": "code",
   "execution_count": 11,
   "id": "021b66d2-4bce-4f6a-9424-ce8c3673d252",
   "metadata": {},
   "outputs": [],
   "source": [
    "# Select relevant features for similarity calculation\n",
    "features_for_similarity = customer_features[['total_transactions', 'total_spent', 'avg_spent_per_transaction']]\n",
    "\n",
    "# Normalize the features (optional, but helps with similarity calculations)\n",
    "from sklearn.preprocessing import StandardScaler\n",
    "scaler = StandardScaler()\n",
    "features_scaled = scaler.fit_transform(features_for_similarity)\n"
   ]
  },
  {
   "cell_type": "code",
   "execution_count": 12,
   "id": "f0534b76-6bac-429f-8b22-af896430ed07",
   "metadata": {},
   "outputs": [],
   "source": [
    "# Compute cosine similarity matrix\n",
    "cosine_similarities = cosine_similarity(features_scaled)\n",
    "\n",
    "# Create a DataFrame for easier analysis\n",
    "cosine_similarity_df = pd.DataFrame(cosine_similarities, index=customer_features['CustomerID'], columns=customer_features['CustomerID'])\n"
   ]
  },
  {
   "cell_type": "code",
   "execution_count": 13,
   "id": "1f7ec896-a380-4fe5-9edb-0d2a4a3aac36",
   "metadata": {},
   "outputs": [],
   "source": [
    "# Function to get the top 3 similar customers for each customer\n",
    "def get_top_3_similar(customers, similarity_matrix):\n",
    "    lookalike_map = {}\n",
    "    for customer in customers:\n",
    "        # Get similarity scores for the current customer, excluding the customer itself\n",
    "        similarity_scores = similarity_matrix[customer].drop(customer)\n",
    "        \n",
    "        # Get top 3 similar customers based on highest similarity scores\n",
    "        top_3 = similarity_scores.nlargest(3)\n",
    "        \n",
    "        # Store the top 3 similar customers and their similarity scores\n",
    "        lookalike_map[customer] = list(zip(top_3.index, top_3.values))\n",
    "    \n",
    "    return lookalike_map\n",
    "\n",
    "# Get the top 3 similar customers for the first 20 customers\n",
    "lookalike_map = get_top_3_similar(customer_features['CustomerID'][:20], cosine_similarity_df)\n"
   ]
  },
  {
   "cell_type": "code",
   "execution_count": 14,
   "id": "c316abbb-3a2f-401f-8a53-cf1a36a42733",
   "metadata": {},
   "outputs": [],
   "source": [
    "# Convert the lookalike map to a DataFrame and save to CSV\n",
    "lookalike_data = []\n",
    "\n",
    "for customer, similar_customers in lookalike_map.items():\n",
    "    for similar_customer, score in similar_customers:\n",
    "        lookalike_data.append([customer, similar_customer, score])\n",
    "\n",
    "lookalike_df = pd.DataFrame(lookalike_data, columns=['CustomerID', 'LookalikeCustomerID', 'SimilarityScore'])\n",
    "lookalike_df.to_csv('NagaDeekshitha_Gollamandula_Lookalike.csv', index=False)\n"
   ]
  }
 ],
 "metadata": {
  "kernelspec": {
   "display_name": "Python 3 (ipykernel)",
   "language": "python",
   "name": "python3"
  },
  "language_info": {
   "codemirror_mode": {
    "name": "ipython",
    "version": 3
   },
   "file_extension": ".py",
   "mimetype": "text/x-python",
   "name": "python",
   "nbconvert_exporter": "python",
   "pygments_lexer": "ipython3",
   "version": "3.12.7"
  }
 },
 "nbformat": 4,
 "nbformat_minor": 5
}
